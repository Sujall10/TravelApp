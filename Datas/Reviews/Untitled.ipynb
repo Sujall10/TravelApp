{
 "cells": [
  {
   "cell_type": "code",
   "execution_count": 17,
   "id": "ee1bec65",
   "metadata": {},
   "outputs": [],
   "source": [
    "import numpy as np\n",
    "import pandas as pd\n",
    "import re"
   ]
  },
  {
   "cell_type": "code",
   "execution_count": 2,
   "id": "805dc308",
   "metadata": {},
   "outputs": [],
   "source": [
    "import matplotlib.pyplot as plt\n",
    "import seaborn as sns\n",
    "%matplotlib inline"
   ]
  },
  {
   "cell_type": "code",
   "execution_count": 34,
   "id": "c473ef6a",
   "metadata": {},
   "outputs": [],
   "source": [
    "reviews = pd.read_csv('Bali Hotel Review.csv', delimiter=';')  # Example: semicolon delimiter\n",
    "reviews = pd.read_csv('Bali Hotel Review.csv', sep='\\t')      # Example: tab delimiter"
   ]
  },
  {
   "cell_type": "code",
   "execution_count": 35,
   "id": "2be8a4f5",
   "metadata": {},
   "outputs": [
    {
     "data": {
      "text/html": [
       "<div>\n",
       "<style scoped>\n",
       "    .dataframe tbody tr th:only-of-type {\n",
       "        vertical-align: middle;\n",
       "    }\n",
       "\n",
       "    .dataframe tbody tr th {\n",
       "        vertical-align: top;\n",
       "    }\n",
       "\n",
       "    .dataframe thead th {\n",
       "        text-align: right;\n",
       "    }\n",
       "</style>\n",
       "<table border=\"1\" class=\"dataframe\">\n",
       "  <thead>\n",
       "    <tr style=\"text-align: right;\">\n",
       "      <th></th>\n",
       "      <th>Location;Hotel;UserID;Title;Review;Rating;Value;Accessibility;Service;Room;Cleanliness;Sleep Quality</th>\n",
       "    </tr>\n",
       "  </thead>\n",
       "  <tbody>\n",
       "    <tr>\n",
       "      <th>0</th>\n",
       "      <td>Legian Kuta Bali;Merccure Bali Legian;Barry Sl...</td>\n",
       "    </tr>\n",
       "    <tr>\n",
       "      <th>1</th>\n",
       "      <td>Legian Kuta Bali;Merccure Bali Legian;u4ianoos...</td>\n",
       "    </tr>\n",
       "    <tr>\n",
       "      <th>2</th>\n",
       "      <td>Legian Kuta Bali;Merccure Bali Legian;Phoenix ...</td>\n",
       "    </tr>\n",
       "    <tr>\n",
       "      <th>3</th>\n",
       "      <td>Legian Kuta Bali;Merccure Bali Legian;Brenda;B...</td>\n",
       "    </tr>\n",
       "    <tr>\n",
       "      <th>4</th>\n",
       "      <td>Legian Kuta Bali;Merccure Bali Legian;Sukhwind...</td>\n",
       "    </tr>\n",
       "  </tbody>\n",
       "</table>\n",
       "</div>"
      ],
      "text/plain": [
       "  Location;Hotel;UserID;Title;Review;Rating;Value;Accessibility;Service;Room;Cleanliness;Sleep Quality\n",
       "0  Legian Kuta Bali;Merccure Bali Legian;Barry Sl...                                                  \n",
       "1  Legian Kuta Bali;Merccure Bali Legian;u4ianoos...                                                  \n",
       "2  Legian Kuta Bali;Merccure Bali Legian;Phoenix ...                                                  \n",
       "3  Legian Kuta Bali;Merccure Bali Legian;Brenda;B...                                                  \n",
       "4  Legian Kuta Bali;Merccure Bali Legian;Sukhwind...                                                  "
      ]
     },
     "execution_count": 35,
     "metadata": {},
     "output_type": "execute_result"
    }
   ],
   "source": [
    "reviews.head()"
   ]
  },
  {
   "cell_type": "code",
   "execution_count": 12,
   "id": "cdfb1a42",
   "metadata": {},
   "outputs": [],
   "source": [
    "reviews = reviews.rename(columns={0:'Hotel Reviews'})"
   ]
  },
  {
   "cell_type": "code",
   "execution_count": 13,
   "id": "01ddac2c",
   "metadata": {},
   "outputs": [
    {
     "data": {
      "text/html": [
       "<div>\n",
       "<style scoped>\n",
       "    .dataframe tbody tr th:only-of-type {\n",
       "        vertical-align: middle;\n",
       "    }\n",
       "\n",
       "    .dataframe tbody tr th {\n",
       "        vertical-align: top;\n",
       "    }\n",
       "\n",
       "    .dataframe thead th {\n",
       "        text-align: right;\n",
       "    }\n",
       "</style>\n",
       "<table border=\"1\" class=\"dataframe\">\n",
       "  <thead>\n",
       "    <tr style=\"text-align: right;\">\n",
       "      <th></th>\n",
       "      <th>Hotel Reviews</th>\n",
       "    </tr>\n",
       "  </thead>\n",
       "  <tbody>\n",
       "    <tr>\n",
       "      <th>0</th>\n",
       "      <td>1. Amazing hotel with excellent service and am...</td>\n",
       "    </tr>\n",
       "    <tr>\n",
       "      <th>1</th>\n",
       "      <td>2. \"The staff was friendly and helpful, making...</td>\n",
       "    </tr>\n",
       "    <tr>\n",
       "      <th>2</th>\n",
       "      <td>3. \"The room was spacious, clean, and well-mai...</td>\n",
       "    </tr>\n",
       "    <tr>\n",
       "      <th>3</th>\n",
       "      <td>4. \"The bed was incredibly comfortable, ensuri...</td>\n",
       "    </tr>\n",
       "    <tr>\n",
       "      <th>4</th>\n",
       "      <td>5. \"The hotel's location was perfect, close to...</td>\n",
       "    </tr>\n",
       "  </tbody>\n",
       "</table>\n",
       "</div>"
      ],
      "text/plain": [
       "                                       Hotel Reviews\n",
       "0  1. Amazing hotel with excellent service and am...\n",
       "1  2. \"The staff was friendly and helpful, making...\n",
       "2  3. \"The room was spacious, clean, and well-mai...\n",
       "3  4. \"The bed was incredibly comfortable, ensuri...\n",
       "4  5. \"The hotel's location was perfect, close to..."
      ]
     },
     "execution_count": 13,
     "metadata": {},
     "output_type": "execute_result"
    }
   ],
   "source": [
    "reviews.head()"
   ]
  },
  {
   "cell_type": "code",
   "execution_count": 29,
   "id": "b83b3ebb",
   "metadata": {},
   "outputs": [],
   "source": [
    "\n",
    "reviews['cleaned_review'] = reviews['Hotel Reviews'].apply(lambda x : x[2:])"
   ]
  },
  {
   "cell_type": "code",
   "execution_count": 32,
   "id": "cd6ec972",
   "metadata": {},
   "outputs": [
    {
     "data": {
      "text/plain": [
       "75"
      ]
     },
     "execution_count": 32,
     "metadata": {},
     "output_type": "execute_result"
    }
   ],
   "source": [
    "reviews['cleaned_review'].nunique()"
   ]
  },
  {
   "cell_type": "code",
   "execution_count": null,
   "id": "0c0314ce",
   "metadata": {},
   "outputs": [],
   "source": []
  }
 ],
 "metadata": {
  "kernelspec": {
   "display_name": "Python 3 (ipykernel)",
   "language": "python",
   "name": "python3"
  },
  "language_info": {
   "codemirror_mode": {
    "name": "ipython",
    "version": 3
   },
   "file_extension": ".py",
   "mimetype": "text/x-python",
   "name": "python",
   "nbconvert_exporter": "python",
   "pygments_lexer": "ipython3",
   "version": "3.11.4"
  }
 },
 "nbformat": 4,
 "nbformat_minor": 5
}
